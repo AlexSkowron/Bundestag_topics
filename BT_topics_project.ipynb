{
 "cells": [
  {
   "cell_type": "markdown",
   "metadata": {},
   "source": [
    "# Analysing topics of speeches in the German Bundestag"
   ]
  },
  {
   "cell_type": "markdown",
   "metadata": {},
   "source": [
    "## Get data from BT API"
   ]
  },
  {
   "cell_type": "code",
   "execution_count": 94,
   "metadata": {},
   "outputs": [],
   "source": [
    "#import libraries\n",
    "import requests\n",
    "import numpy as np\n",
    "import pandas as pd\n",
    "import matplotlib.pyplot as plt\n"
   ]
  },
  {
   "cell_type": "code",
   "execution_count": 3,
   "metadata": {},
   "outputs": [
    {
     "data": {
      "text/html": [
       "<div>\n",
       "<style scoped>\n",
       "    .dataframe tbody tr th:only-of-type {\n",
       "        vertical-align: middle;\n",
       "    }\n",
       "\n",
       "    .dataframe tbody tr th {\n",
       "        vertical-align: top;\n",
       "    }\n",
       "\n",
       "    .dataframe thead th {\n",
       "        text-align: right;\n",
       "    }\n",
       "</style>\n",
       "<table border=\"1\" class=\"dataframe\">\n",
       "  <thead>\n",
       "    <tr style=\"text-align: right;\">\n",
       "      <th></th>\n",
       "      <th>id</th>\n",
       "      <th>dokumentnummer</th>\n",
       "      <th>datum</th>\n",
       "      <th>text</th>\n",
       "    </tr>\n",
       "  </thead>\n",
       "  <tbody>\n",
       "    <tr>\n",
       "      <th>0</th>\n",
       "      <td>5585</td>\n",
       "      <td>20/116</td>\n",
       "      <td>2023-07-07</td>\n",
       "      <td>Deutscher Bundestag\\nStenografischer Bericht\\n...</td>\n",
       "    </tr>\n",
       "    <tr>\n",
       "      <th>1</th>\n",
       "      <td>5584</td>\n",
       "      <td>20/115</td>\n",
       "      <td>2023-07-06</td>\n",
       "      <td>Deutscher Bundestag\\nStenografischer Bericht\\n...</td>\n",
       "    </tr>\n",
       "    <tr>\n",
       "      <th>2</th>\n",
       "      <td>5583</td>\n",
       "      <td>20/114</td>\n",
       "      <td>2023-07-05</td>\n",
       "      <td>Deutscher Bundestag\\nStenografischer Bericht\\n...</td>\n",
       "    </tr>\n",
       "    <tr>\n",
       "      <th>3</th>\n",
       "      <td>5582</td>\n",
       "      <td>20/113</td>\n",
       "      <td>2023-06-23</td>\n",
       "      <td>Deutscher Bundestag\\nStenografischer Bericht\\n...</td>\n",
       "    </tr>\n",
       "    <tr>\n",
       "      <th>4</th>\n",
       "      <td>5581</td>\n",
       "      <td>20/112</td>\n",
       "      <td>2023-06-22</td>\n",
       "      <td>Deutscher Bundestag\\nStenografischer Bericht\\n...</td>\n",
       "    </tr>\n",
       "    <tr>\n",
       "      <th>...</th>\n",
       "      <td>...</td>\n",
       "      <td>...</td>\n",
       "      <td>...</td>\n",
       "      <td>...</td>\n",
       "    </tr>\n",
       "    <tr>\n",
       "      <th>111</th>\n",
       "      <td>5444</td>\n",
       "      <td>20/5</td>\n",
       "      <td>2021-12-08</td>\n",
       "      <td>[Deutscher Bundestag\\nStenografischer Bericht\\...</td>\n",
       "    </tr>\n",
       "    <tr>\n",
       "      <th>112</th>\n",
       "      <td>5443</td>\n",
       "      <td>20/4</td>\n",
       "      <td>2021-12-07</td>\n",
       "      <td>[Deutscher Bundestag\\nStenografischer Bericht\\...</td>\n",
       "    </tr>\n",
       "    <tr>\n",
       "      <th>113</th>\n",
       "      <td>5435</td>\n",
       "      <td>20/3</td>\n",
       "      <td>2021-11-18</td>\n",
       "      <td>[Deutscher Bundestag\\nStenografischer Bericht\\...</td>\n",
       "    </tr>\n",
       "    <tr>\n",
       "      <th>114</th>\n",
       "      <td>5434</td>\n",
       "      <td>20/2</td>\n",
       "      <td>2021-11-11</td>\n",
       "      <td>[Deutscher Bundestag\\nStenografischer Bericht\\...</td>\n",
       "    </tr>\n",
       "    <tr>\n",
       "      <th>115</th>\n",
       "      <td>5432</td>\n",
       "      <td>20/1</td>\n",
       "      <td>2021-10-26</td>\n",
       "      <td>[Deutscher Bundestag\\nStenografischer Bericht\\...</td>\n",
       "    </tr>\n",
       "  </tbody>\n",
       "</table>\n",
       "<p>116 rows × 4 columns</p>\n",
       "</div>"
      ],
      "text/plain": [
       "       id dokumentnummer       datum   \n",
       "0    5585         20/116  2023-07-07  \\\n",
       "1    5584         20/115  2023-07-06   \n",
       "2    5583         20/114  2023-07-05   \n",
       "3    5582         20/113  2023-06-23   \n",
       "4    5581         20/112  2023-06-22   \n",
       "..    ...            ...         ...   \n",
       "111  5444           20/5  2021-12-08   \n",
       "112  5443           20/4  2021-12-07   \n",
       "113  5435           20/3  2021-11-18   \n",
       "114  5434           20/2  2021-11-11   \n",
       "115  5432           20/1  2021-10-26   \n",
       "\n",
       "                                                  text  \n",
       "0    Deutscher Bundestag\\nStenografischer Bericht\\n...  \n",
       "1    Deutscher Bundestag\\nStenografischer Bericht\\n...  \n",
       "2    Deutscher Bundestag\\nStenografischer Bericht\\n...  \n",
       "3    Deutscher Bundestag\\nStenografischer Bericht\\n...  \n",
       "4    Deutscher Bundestag\\nStenografischer Bericht\\n...  \n",
       "..                                                 ...  \n",
       "111  [Deutscher Bundestag\\nStenografischer Bericht\\...  \n",
       "112  [Deutscher Bundestag\\nStenografischer Bericht\\...  \n",
       "113  [Deutscher Bundestag\\nStenografischer Bericht\\...  \n",
       "114  [Deutscher Bundestag\\nStenografischer Bericht\\...  \n",
       "115  [Deutscher Bundestag\\nStenografischer Bericht\\...  \n",
       "\n",
       "[116 rows x 4 columns]"
      ]
     },
     "execution_count": 3,
     "metadata": {},
     "output_type": "execute_result"
    }
   ],
   "source": [
    "BT_protocols=list() # collected documents\n",
    "\n",
    "parameters = {\"apikey\": \"rgsaY4U.oZRQKUHdJhF9qguHMkwCGIoLaqEcaHjYLF\", \"f.wahlperiode\": 20, \"f.zuordnung\": \"BT\", \"format\": \"json\"} # parameters for API requests\n",
    "\n",
    "while 1:\n",
    "    # get document from API (API only allows retrieval of 10 entities at a time)\n",
    "    response = requests.get(\"https://search.dip.bundestag.de/api/v1/plenarprotokoll-text\", params=parameters)\n",
    "    BT_protocols.extend(response.json()[\"documents\"])\n",
    "\n",
    "    # update cursor for next API request\n",
    "    if \"cursor\" in parameters:\n",
    "        if parameters[\"cursor\"] == response.json()[\"cursor\"]:\n",
    "            break # exit when cursor position does not change (all documents retrieved)\n",
    "        else:\n",
    "            parameters[\"cursor\"] = response.json()[\"cursor\"]\n",
    "    else:\n",
    "        parameters[\"cursor\"] = response.json()[\"cursor\"]\n",
    "\n",
    "# convert to pandas dataframe only retaining relevant features\n",
    "BT_protocols=pd.DataFrame(BT_protocols)\n",
    "BT_protocols.reindex(columns=[\"id\", \"dokumentnummer\",\"datum\",\"text\"])"
   ]
  },
  {
   "cell_type": "markdown",
   "metadata": {},
   "source": [
    "## Preprocessing"
   ]
  },
  {
   "cell_type": "code",
   "execution_count": 75,
   "metadata": {},
   "outputs": [
    {
     "name": "stderr",
     "output_type": "stream",
     "text": [
      "[nltk_data] Downloading package stopwords to\n",
      "[nltk_data]     /Users/skowron/nltk_data...\n",
      "[nltk_data]   Package stopwords is already up-to-date!\n",
      "[nltk_data] Downloading package punkt to /Users/skowron/nltk_data...\n",
      "[nltk_data]   Package punkt is already up-to-date!\n"
     ]
    },
    {
     "data": {
      "text/plain": [
       "True"
      ]
     },
     "execution_count": 75,
     "metadata": {},
     "output_type": "execute_result"
    }
   ],
   "source": [
    "#import libraries\n",
    "import unicodedata\n",
    "import nltk\n",
    "import string\n",
    "import re\n",
    "from nltk import SnowballStemmer\n",
    "from nltk.tokenize import word_tokenize\n",
    "from nltk.corpus import stopwords\n",
    "\n",
    "nltk.download('stopwords')\n",
    "nltk.download('punkt')"
   ]
  },
  {
   "cell_type": "code",
   "execution_count": 76,
   "metadata": {},
   "outputs": [
    {
     "data": {
      "text/plain": [
       "'deutscher bundestag\\nstenografischer bericht\\n116. sitzung\\nberlin, freitag, den 7. juli 2023\\ni n h a l t :\\nänderung der tagesordnung . . . . . . . . . . . . . . . . . 14311 b\\nabsetzung des tagesordnungs'"
      ]
     },
     "execution_count": 76,
     "metadata": {},
     "output_type": "execute_result"
    }
   ],
   "source": [
    "# lower case via the lower() built-in method\n",
    "docs = [s.lower() for s in BT_protocols[\"text\"]]\n",
    "docs[0][0:200]"
   ]
  },
  {
   "cell_type": "code",
   "execution_count": 77,
   "metadata": {},
   "outputs": [
    {
     "name": "stdout",
     "output_type": "stream",
     "text": [
      "beginn: 9.00 uhr\n",
      "präsidentin bärbel bas:\n",
      "sehr geeh\n",
      "\n",
      "--------------\n",
      "\n",
      "die sitzung ist geschlossen.\n",
      "(schluss: 16.33 uhr)\n",
      "\n"
     ]
    }
   ],
   "source": [
    "# remove text before protocol starts and \n",
    "docs = [d[d.find(\"beginn:\"):d.rfind(\"anlagen zum stenografischen bericht\")] for d in docs]\n",
    "print(docs[0][0:50])\n",
    "print(\"\\n--------------\\n\")\n",
    "print(docs[0][-50:])"
   ]
  },
  {
   "cell_type": "code",
   "execution_count": null,
   "metadata": {},
   "outputs": [],
   "source": [
    "#contractions?\n",
    "# document-specific stop words (names, terms(Beifall))"
   ]
  },
  {
   "cell_type": "code",
   "execution_count": 78,
   "metadata": {},
   "outputs": [
    {
     "data": {
      "text/plain": [
       "'beginn uhr präsidentin bärbel bas sehr geehrte damen und herren liebe kolleginnen und kollegen ich wünsche ihnen allen einen wunderschönen guten morgen die sitzung ist eröffnet ich teile ihnen mit das'"
      ]
     },
     "execution_count": 78,
     "metadata": {},
     "output_type": "execute_result"
    }
   ],
   "source": [
    "# clean text\n",
    "def clean_text(text):\n",
    "    RE_WSPACE = re.compile(r\"\\s+\", re.IGNORECASE) # convert multiple white spaces to single white space\n",
    "    RE_ASCII = re.compile(r\"[^A-Za-zÀ-ž ]\", re.IGNORECASE) # remove non-ascii characters preserving German special characters, remove digits, remove punctuation\n",
    "    RE_SINGLECHAR = re.compile(r\"\\b[A-Za-zÀ-ž]\\b\", re.IGNORECASE) # remove single chars\n",
    "\n",
    "    text = re.sub(RE_ASCII, \" \", text)\n",
    "    text = re.sub(RE_SINGLECHAR, \" \", text)\n",
    "    text = re.sub(RE_WSPACE, \" \", text)\n",
    "\n",
    "    return text\n",
    "\n",
    "# apply function\n",
    "docs = [clean_text(d) for d in docs]\n",
    "docs[0][0:200]"
   ]
  },
  {
   "cell_type": "code",
   "execution_count": 79,
   "metadata": {},
   "outputs": [
    {
     "data": {
      "text/plain": [
       "['beginn',\n",
       " 'uhr',\n",
       " 'präsidentin',\n",
       " 'bärbel',\n",
       " 'bas',\n",
       " 'sehr',\n",
       " 'geehrte',\n",
       " 'damen',\n",
       " 'und',\n",
       " 'herren',\n",
       " 'liebe',\n",
       " 'kolleginnen',\n",
       " 'und',\n",
       " 'kollegen',\n",
       " 'ich',\n",
       " 'wünsche',\n",
       " 'ihnen',\n",
       " 'allen',\n",
       " 'einen',\n",
       " 'wunderschönen']"
      ]
     },
     "execution_count": 79,
     "metadata": {},
     "output_type": "execute_result"
    }
   ],
   "source": [
    "#tokenize\n",
    "tokens = [word_tokenize(d) for d in docs]\n",
    "tokens[0][0:20]"
   ]
  },
  {
   "cell_type": "code",
   "execution_count": 80,
   "metadata": {},
   "outputs": [
    {
     "data": {
      "text/plain": [
       "['beginn',\n",
       " 'uhr',\n",
       " 'präsidentin',\n",
       " 'bärbel',\n",
       " 'bas',\n",
       " 'geehrte',\n",
       " 'damen',\n",
       " 'herren',\n",
       " 'liebe',\n",
       " 'kolleginnen',\n",
       " 'kollegen',\n",
       " 'wünsche',\n",
       " 'wunderschönen',\n",
       " 'guten',\n",
       " 'morgen',\n",
       " 'sitzung',\n",
       " 'eröffnet',\n",
       " 'teile',\n",
       " 'ältestenrat',\n",
       " 'gestrigen']"
      ]
     },
     "execution_count": 80,
     "metadata": {},
     "output_type": "execute_result"
    }
   ],
   "source": [
    "# remove stopwords\n",
    "stop_words = set(stopwords.words(\"german\"))\n",
    "\n",
    "def remove_stopwords(tokens, stopwords):\n",
    "    return [t for t in tokens if t not in stopwords]\n",
    "\n",
    "# apply stopword removal function\n",
    "tokens = [remove_stopwords(t, stopwords=stop_words) for t in tokens]\n",
    "tokens[0][0:20]"
   ]
  },
  {
   "cell_type": "code",
   "execution_count": 81,
   "metadata": {},
   "outputs": [
    {
     "data": {
      "text/plain": [
       "['beginn',\n",
       " 'uhr',\n",
       " 'prasidentin',\n",
       " 'barbel',\n",
       " 'bas',\n",
       " 'geehrt',\n",
       " 'dam',\n",
       " 'herr',\n",
       " 'lieb',\n",
       " 'kolleginn',\n",
       " 'kolleg',\n",
       " 'wunsch',\n",
       " 'wunderschon',\n",
       " 'gut',\n",
       " 'morg',\n",
       " 'sitzung',\n",
       " 'eroffnet',\n",
       " 'teil',\n",
       " 'altestenrat',\n",
       " 'gestrig']"
      ]
     },
     "execution_count": 81,
     "metadata": {},
     "output_type": "execute_result"
    }
   ],
   "source": [
    "#stem words\n",
    "stemmer = SnowballStemmer(\"german\")\n",
    "\n",
    "def stem(tokens):\n",
    "    \"\"\"stem all tokens that do not contain hyphens\"\"\"\n",
    "    return [stemmer.stem(t) for t in tokens]\n",
    "\n",
    "# apply function\n",
    "stems = [stem(t) for t in tokens]\n",
    "stems[0][0:20]"
   ]
  },
  {
   "cell_type": "code",
   "execution_count": 85,
   "metadata": {},
   "outputs": [
    {
     "data": {
      "text/plain": [
       "['Beginn',\n",
       " 'Uhr',\n",
       " 'Präsidentin',\n",
       " 'Bärbel',\n",
       " 'Bas',\n",
       " 'geehrt',\n",
       " 'Dam',\n",
       " 'herr',\n",
       " 'lieb',\n",
       " 'kolleginn',\n",
       " 'Kollege',\n",
       " 'wünsche',\n",
       " 'wunderschön',\n",
       " 'Gut',\n",
       " 'morgen',\n",
       " 'Sitzung',\n",
       " 'eröffnen',\n",
       " 'Teil',\n",
       " 'ältestenrat',\n",
       " 'gestrig']"
      ]
     },
     "execution_count": 85,
     "metadata": {},
     "output_type": "execute_result"
    }
   ],
   "source": [
    "# lemmatize with standard spaCy lemmatizer (takes a couple of minutes)\n",
    "import spacy\n",
    "\n",
    "nlp_standard = spacy.load('de_core_news_sm')\n",
    "def lemmatize_sent(sent):\n",
    "    sent = ' '.join(sent)\n",
    "    doc = nlp_standard(sent)\n",
    "    lemmas = [token.lemma_ if token.lemma_ != '-PRON-' else token.text for token in doc]\n",
    "    return lemmas\n",
    "\n",
    "# apply function\n",
    "lemmas = [lemmatize_sent(t) for t in tokens]\n",
    "lemmas[0][0:20]"
   ]
  },
  {
   "cell_type": "code",
   "execution_count": 90,
   "metadata": {},
   "outputs": [
    {
     "name": "stderr",
     "output_type": "stream",
     "text": [
      "/Users/skowron/opt/anaconda3/envs/DataScience/lib/python3.11/site-packages/sklearn/feature_extraction/text.py:528: UserWarning: The parameter 'token_pattern' will not be used since 'tokenizer' is not None'\n",
      "  warnings.warn(\n"
     ]
    },
    {
     "data": {
      "text/plain": [
       "[(116, 'abg', 0),\n",
       " (116, 'abgeordnet', 0),\n",
       " (116, 'afd', 0),\n",
       " (116, 'arbeit', 0),\n",
       " (116, 'aufgab', 0),\n",
       " (116, 'beginn', 0),\n",
       " (116, 'beifall', 0),\n",
       " (116, 'beim', 0),\n",
       " (116, 'bekannt', 0),\n",
       " (116, 'beruf', 0)]"
      ]
     },
     "execution_count": 90,
     "metadata": {},
     "output_type": "execute_result"
    }
   ],
   "source": [
    "# exclude terms based on tf-idf\n",
    "\n",
    "from sklearn.feature_extraction.text import TfidfVectorizer\n",
    "\n",
    "# simple auxiliary function to override the preprocessing done by sklearn\n",
    "def do_nothing(doc):\n",
    "    return doc\n",
    "     \n",
    "# generate document frequency ranking for all terms in the vocabulary\n",
    "vectorizer = TfidfVectorizer(use_idf=False, norm=None, tokenizer=do_nothing, preprocessor=do_nothing)\n",
    "df_matrix = vectorizer.fit_transform(stems).toarray()\n",
    "df_matrix_bool = np.where(df_matrix > 0, 1, 0)\n",
    "scores_df = df_matrix_bool.sum(axis=0)\n",
    "\n",
    "sorted_vocab = sorted(vectorizer.vocabulary_.items(),   key=lambda x: x[1])\n",
    "sorted_vocab_keys = list(np.array(sorted_vocab)[:,0])\n",
    "sorted_scores_df = sorted(set(scores_df), reverse=True)\n",
    "\n",
    "rank_dict = {k:val for k,val in zip(sorted_scores_df, list(range(len(sorted_scores_df))))}\n",
    "rank_tup = sorted(zip(scores_df, sorted_vocab_keys),  key=lambda x: x[0], reverse=True)\n",
    "df_ranking = [x + (rank_dict[x[0]],) for x in rank_tup]\n",
    "df_ranking[:10]"
   ]
  },
  {
   "cell_type": "code",
   "execution_count": 95,
   "metadata": {},
   "outputs": [
    {
     "data": {
      "image/png": "[encoded data removed]",
      "text/plain": [
       "<Figure size 1000x600 with 1 Axes>"
      ]
     },
     "metadata": {},
     "output_type": "display_data"
    }
   ],
   "source": [
    "# plot document frequency\n",
    "plt.figure(figsize=(10,6))\n",
    "plt.plot([x[0] for x in df_ranking])\n",
    "plt.title('Document frequency ranking')\n",
    "plt.ylabel(\"Document frequency\")\n",
    "plt.xlabel(\"Term ranking\")\n",
    "plt.show()"
   ]
  },
  {
   "cell_type": "code",
   "execution_count": 91,
   "metadata": {},
   "outputs": [
    {
     "data": {
      "text/plain": [
       "[(22.546120490866997, 'wi', 0),\n",
       " (20.134872312832027, 'plattduutsch', 1),\n",
       " (18.415070705555372, 'imo', 2),\n",
       " (18.291593888179616, 'hebb', 3),\n",
       " (17.900667671065104, 'nagoya', 4),\n",
       " (17.55660841434829, 'weddellme', 5),\n",
       " (16.91851328867892, 'ik', 6),\n",
       " (16.858381408074383, 'jehovas', 7),\n",
       " (16.839934674329236, 'wahlfehl', 8),\n",
       " (16.633304918935664, 'progressionsvorbehalt', 9)]"
      ]
     },
     "execution_count": 91,
     "metadata": {},
     "output_type": "execute_result"
    }
   ],
   "source": [
    "# function to compute term-frequency inverse document frequency\n",
    "def tf_idf_compute(term, num_docs, scores_tf, scores_df):\n",
    "    return (1+np.log(scores_tf[term])*np.log(num_docs/scores_df[term]))\n",
    "\n",
    "# generate term frequency inverse document frequency ranking for all terms in the vocabulary\n",
    "sorted_vocab = sorted(vectorizer.vocabulary_.items(),   key=lambda x: x[1])\n",
    "sorted_vocab = list(np.array(sorted_vocab)[:,0])\n",
    "scores_tf = df_matrix.sum(axis=0)\n",
    "scores_tfidf = [tf_idf_compute(t, len(tokens), scores_tf=scores_tf, scores_df=scores_df) for t in range(len(sorted_vocab))]\n",
    "sorted_scores_tfidf = sorted(set(scores_tfidf), reverse=True)\n",
    "\n",
    "rank_dict = {k:val for k,val in zip(sorted_scores_tfidf, list(range(len(sorted_scores_tfidf))))}\n",
    "rank_tup = sorted(zip(scores_tfidf, sorted_vocab),  key=lambda x: x[0], reverse=True)\n",
    "tfidf_ranking = [x + (rank_dict[x[0]],) for x in rank_tup]\n",
    "tfidf_ranking[:10]"
   ]
  },
  {
   "cell_type": "markdown",
   "metadata": {},
   "source": []
  },
  {
   "cell_type": "code",
   "execution_count": 97,
   "metadata": {},
   "outputs": [
    {
     "data": {
      "image/png": "[encoded data removed]",
      "text/plain": [
       "<Figure size 1000x600 with 1 Axes>"
      ]
     },
     "metadata": {},
     "output_type": "display_data"
    }
   ],
   "source": [
    "# plot tfidf ranking\n",
    "plt.figure(figsize=(10,6))\n",
    "plt.loglog([x[0] for x in df_ranking])\n",
    "plt.title('Document frequency ranking (log-log)')\n",
    "plt.ylabel(\"log document frequency\")\n",
    "plt.xlabel(\"log term ranking\")\n",
    "plt.show()"
   ]
  },
  {
   "cell_type": "code",
   "execution_count": 98,
   "metadata": {},
   "outputs": [
    {
     "data": {
      "image/png": "[encoded data removed]",
      "text/plain": [
       "<Figure size 1000x600 with 1 Axes>"
      ]
     },
     "metadata": {},
     "output_type": "display_data"
    }
   ],
   "source": [
    "# plot tf-ids ranking\n",
    "plt.figure(figsize=(10,6))\n",
    "plt.plot([x[0] for x in tfidf_ranking])\n",
    "plt.title('Tf-idf ranking')\n",
    "plt.ylabel(\"tf-idf\")\n",
    "plt.xlabel(\"Term ranking\")\n",
    "plt.show()"
   ]
  },
  {
   "cell_type": "code",
   "execution_count": 117,
   "metadata": {},
   "outputs": [
    {
     "data": {
      "text/plain": [
       "4.276934646277206"
      ]
     },
     "execution_count": 117,
     "metadata": {},
     "output_type": "execute_result"
    }
   ],
   "source": [
    "tfidf_ranking[39000][0]"
   ]
  },
  {
   "cell_type": "code",
   "execution_count": 152,
   "metadata": {},
   "outputs": [],
   "source": [
    "# auxiliary function to easily remove undesired tokens\n",
    "def remove(tokens, to_remove):\n",
    "    if to_remove:\n",
    "        return [t for t in tokens if t not in to_remove]\n",
    "    else:\n",
    "        return tokens\n",
    "\n",
    "# function to remove tokens in documents according to their df or tfidf score\n",
    "def rank_remove(ranking, docs, min_cutoff_score=-np.inf, max_cutoff_score=np.inf):\n",
    "\n",
    "    # define list of tokens to remove\n",
    "    to_remove_low = set([t[1] for t in ranking if t[0] <= min_cutoff_score])\n",
    "    to_remove_high = set([t[1] for t in ranking if t[0] > max_cutoff_score])\n",
    "\n",
    "    # remove tokens\n",
    "    docs_clean = [remove(d, to_remove_low) for d in docs]\n",
    "    docs_clean = [remove(d, to_remove_high) for d in docs_clean]\n",
    "\n",
    "    return docs_clean\n",
    "     \n",
    "# update documents\n",
    "stems_clean = rank_remove(tfidf_ranking, stems, min_cutoff_score=tfidf_ranking[39000][0])"
   ]
  },
  {
   "cell_type": "code",
   "execution_count": 167,
   "metadata": {},
   "outputs": [
    {
     "name": "stderr",
     "output_type": "stream",
     "text": [
      "/Users/skowron/opt/anaconda3/envs/DataScience/lib/python3.11/site-packages/sklearn/feature_extraction/text.py:528: UserWarning: The parameter 'token_pattern' will not be used since 'tokenizer' is not None'\n",
      "  warnings.warn(\n"
     ]
    },
    {
     "name": "stdout",
     "output_type": "stream",
     "text": [
      "(116, 38999)\n",
      "int64\n"
     ]
    }
   ],
   "source": [
    "#create document-term matrix with selected stems\n",
    "from sklearn.feature_extraction.text import CountVectorizer\n",
    "\n",
    "count_vectorizer = CountVectorizer(preprocessor=do_nothing,              # apply no additional preprocessing\n",
    "                                   tokenizer=do_nothing,                 # apply no additional tokenization\n",
    "                                   lowercase=False,                      # convert all characters to lower-case\n",
    "                                   strip_accents=None,                   # remove non-ascii characters\n",
    "                                   stop_words=None,                      # remove stopwords from a built-in list. We can also provide our own list\n",
    "                                   ngram_range=(1, 1),                   # generate only unigrams\n",
    "                                   analyzer='word',                      # analysis at the word-level\n",
    "                                   max_df=1.0,                           # ignore tokens that have a higher document frequency (can be int or percent)\n",
    "                                   min_df=0,                             # ignore tokens that have a lowe document frequency (can be int or percent)\n",
    "                                   max_features=None,                    # we could impose a maximum number of vocabulary terms\n",
    "                                   )\n",
    "\n",
    "# create the document term matrix using stems\n",
    "dt_matrix_stems = count_vectorizer.fit_transform(stems_clean).toarray()\n",
    "print(dt_matrix_stems.shape)\n",
    "print(dt_matrix_stems.dtype)\n",
    "word2idx = count_vectorizer.vocabulary_\n",
    "idx2word = {i:word for word,i in word2idx.items()}\n"
   ]
  },
  {
   "cell_type": "markdown",
   "metadata": {},
   "source": [
    "## Fit topic model (LDA)"
   ]
  },
  {
   "cell_type": "code",
   "execution_count": null,
   "metadata": {},
   "outputs": [
    {
     "ename": "NameError",
     "evalue": "name 'lda' is not defined",
     "output_type": "error",
     "traceback": [
      "\u001b[0;31m---------------------------------------------------------------------------\u001b[0m",
      "\u001b[0;31mNameError\u001b[0m                                 Traceback (most recent call last)",
      "Cell \u001b[0;32mIn[169], line 4\u001b[0m\n\u001b[1;32m      2\u001b[0m num_topics \u001b[39m=\u001b[39m \u001b[39m30\u001b[39m\n\u001b[1;32m      3\u001b[0m vocab_size \u001b[39m=\u001b[39m dt_matrix_stems\u001b[39m.\u001b[39mshape[\u001b[39m1\u001b[39m]\n\u001b[0;32m----> 4\u001b[0m lda_model \u001b[39m=\u001b[39m lda\u001b[39m.\u001b[39mLDA(n_topics\u001b[39m=\u001b[39mnum_topics,         \u001b[39m# Number of topics\u001b[39;00m\n\u001b[1;32m      5\u001b[0m                     alpha\u001b[39m=\u001b[39m\u001b[39m50\u001b[39m\u001b[39m/\u001b[39mnum_topics,         \u001b[39m# Dirichlet parameter for distribution over topics\u001b[39;00m\n\u001b[1;32m      6\u001b[0m                     eta\u001b[39m=\u001b[39m\u001b[39m200\u001b[39m\u001b[39m/\u001b[39mvocab_size,          \u001b[39m# Dirichlet parameter for distribution over words\u001b[39;00m\n\u001b[1;32m      7\u001b[0m                     n_iter\u001b[39m=\u001b[39m\u001b[39m5000\u001b[39m,                 \u001b[39m# Number of sampling iterations\u001b[39;00m\n\u001b[1;32m      8\u001b[0m                     random_state\u001b[39m=\u001b[39m\u001b[39m92\u001b[39m              \u001b[39m# The generator used for the initial topics\u001b[39;00m\n\u001b[1;32m      9\u001b[0m                     )\n\u001b[1;32m     13\u001b[0m \u001b[39m# check some paramters\u001b[39;00m\n\u001b[1;32m     14\u001b[0m \u001b[39mprint\u001b[39m(lda_model\u001b[39m.\u001b[39malpha)\n",
      "\u001b[0;31mNameError\u001b[0m: name 'lda' is not defined"
     ]
    }
   ],
   "source": [
    "# create LDA object with our parameters\n",
    "import lda\n",
    "\n",
    "num_topics = 30\n",
    "vocab_size = dt_matrix_stems.shape[1]\n",
    "lda_model = lda.LDA(n_topics=num_topics,         # Number of topics\n",
    "                    alpha=50/num_topics,         # Dirichlet parameter for distribution over topics\n",
    "                    eta=200/vocab_size,          # Dirichlet parameter for distribution over words\n",
    "                    n_iter=5000,                 # Number of sampling iterations\n",
    "                    random_state=92              # The generator used for the initial topics\n",
    "                    )\n",
    "\n",
    "\n",
    "\n",
    "# check some paramters\n",
    "print(lda_model.alpha)\n",
    "print(lda_model.eta)\n",
    "print(lda_model.n_topics)"
   ]
  },
  {
   "cell_type": "code",
   "execution_count": null,
   "metadata": {},
   "outputs": [],
   "source": [
    "tickdates=pd.DataFrame([\"2022-01-01\" \"2022-07-01\" \"2023-01-01\"])"
   ]
  }
 ],
 "metadata": {
  "kernelspec": {
   "display_name": "DataScience",
   "language": "python",
   "name": "python3"
  },
  "language_info": {
   "codemirror_mode": {
    "name": "ipython",
    "version": 3
   },
   "file_extension": ".py",
   "mimetype": "text/x-python",
   "name": "python",
   "nbconvert_exporter": "python",
   "pygments_lexer": "ipython3",
   "version": "3.8.3"
  },
  "orig_nbformat": 4
 },
 "nbformat": 4,
 "nbformat_minor": 2
}
